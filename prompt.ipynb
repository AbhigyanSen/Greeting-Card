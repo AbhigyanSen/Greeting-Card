{
 "cells": [
  {
   "cell_type": "code",
   "execution_count": 1,
   "metadata": {},
   "outputs": [],
   "source": [
    "import pandas as pd"
   ]
  },
  {
   "cell_type": "code",
   "execution_count": 16,
   "metadata": {},
   "outputs": [
    {
     "name": "stdout",
     "output_type": "stream",
     "text": [
      "Name:  John Smith\n",
      "Create a heartwarming and visually appealing image that captures the essence of Winter in Hills incorporating Blue as the background color. The image should radiate positivity and excitement.\n"
     ]
    }
   ],
   "source": [
    "df = pd.read_excel(\"EmployeeDatabase3.xlsx\", engine='openpyxl')\n",
    "\n",
    "# Function to generate a birthday greeting card based on NGS\n",
    "def generate_birthday_card(ngs):\n",
    "    if ngs not in df['NGS'].values:\\\n",
    "        return \"NGS not found in the database. Please enter a valid NGS.\"\n",
    "\n",
    "    employee_data = df[df['NGS'] == ngs].iloc[0]\n",
    "\n",
    "    greeting_card = (\n",
    "        f\"Create a heartwarming and visually appealing image that captures the essence of \"\n",
    "        f\"{employee_data['RITU']} in {employee_data['TRAVEL']} incorporating {employee_data['COLOUR']} as the background color. \"\n",
    "        f\"The image should radiate positivity and excitement.\"\n",
    "    )\n",
    "\n",
    "    return greeting_card\n",
    "\n",
    "# Get NGS from the user\n",
    "user_ngs = int(input(\"Enter the NGS of the employee: \"))\n",
    "\n",
    "# Store the name of the user-entered NGS in a variable named 'Text'\n",
    "Text = df[df['NGS'] == user_ngs]['NAME'].values[0]\n",
    "print(\"Name: \", Text)\n",
    "\n",
    "# Generate birthday greeting card and store it in the 'prompt' variable\n",
    "prompt = generate_birthday_card(user_ngs)\n",
    "\n",
    "# Print the generated string or error message\n",
    "print(prompt)"
   ]
  },
  {
   "cell_type": "markdown",
   "metadata": {},
   "source": [
    "##### User Input or Default"
   ]
  },
  {
   "cell_type": "code",
   "execution_count": 17,
   "metadata": {},
   "outputs": [
    {
     "name": "stdout",
     "output_type": "stream",
     "text": [
      "Season: Summer\n",
      "Travel Destination: hills\n",
      "Colour: Blue\n",
      "Create a heartwarming and visually appealing image that captures the essence of Summer in hills incorporating Blue as the background color. The image should radiate positivity and excitement.\n"
     ]
    }
   ],
   "source": [
    "# User Input\n",
    "Season = input(\"Enter Season: \")\n",
    "Travel = input(\"Enter Travel Destination: \")\n",
    "Colour = input(\"Enter Colour: \")\n",
    "\n",
    "# Define Default Values\n",
    "default_season = \"Summer\"\n",
    "default_travel = \"Beaches\"\n",
    "default_colour = \"Blue\"\n",
    "\n",
    "# Set Variables with User Input or Defaults\n",
    "Season = Season if Season else default_season\n",
    "Travel = Travel if Travel else default_travel\n",
    "Colour = Colour if Colour else default_colour\n",
    "\n",
    "# Print Final Values\n",
    "print(\"Season:\", Season)\n",
    "print(\"Travel Destination:\", Travel)\n",
    "print(\"Colour:\", Colour)\n",
    "\n",
    "prompt = f\"Create a heartwarming and visually appealing image that captures the essence of {Season} in {Travel} incorporating {Colour} as the background color. The image should radiate positivity and excitement.\"\n",
    "print(prompt)"
   ]
  }
 ],
 "metadata": {
  "kernelspec": {
   "display_name": "Python 3",
   "language": "python",
   "name": "python3"
  },
  "language_info": {
   "codemirror_mode": {
    "name": "ipython",
    "version": 3
   },
   "file_extension": ".py",
   "mimetype": "text/x-python",
   "name": "python",
   "nbconvert_exporter": "python",
   "pygments_lexer": "ipython3",
   "version": "3.11.4"
  }
 },
 "nbformat": 4,
 "nbformat_minor": 2
}
